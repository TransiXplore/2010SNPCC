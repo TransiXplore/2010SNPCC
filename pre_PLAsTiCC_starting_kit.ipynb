{
 "cells": [
  {
   "cell_type": "markdown",
   "metadata": {},
   "source": [
    "<a href=\"http://www.datascience-paris-saclay.fr\">\n",
    "<img src=\"img/logoUPSayPlusCDS_990.png\" width=\"600px\">\n",
    "</a>\n",
    "\n",
    "# Pre-PLAsTiCC - RAMP: classification of astronomical transients\n",
    "## This notebook only allows you to read the data with 3 subclasses using the Kessler 2010 data - for the complete RAMP notebook see [this link](https://github.com/ramp-kits/supernovae/blob/master/PLAsTiCC_starting_kit.ipynb)\n",
    "\n",
    "##### Alexandre Boucaud (Paris-Saclay Center for Data Science)\n",
    "##### Emille E. O. Ishida (Universite Clermont-Auvergne)"
   ]
  },
  {
   "cell_type": "markdown",
   "metadata": {},
   "source": [
    "##  Data\n",
    "\n",
    "\n",
    "\n",
    "The lightcurve data is made of **non-homogeneously sampled**, **non-periodic** time series with correlated errors obtained in several wavelength filters.\n",
    "\n",
    "The DES dataset provided has light curves in 4 filters *g*, *r*, *i* and *z*."
   ]
  },
  {
   "cell_type": "markdown",
   "metadata": {},
   "source": [
    "### Reading the data\n",
    "\n",
    "Here we provide methods to read the `pickle` files and convert the data to a `pandas` dataframe for convenience.\n",
    "\n",
    "The SN label is removed from the main dataframe and provided as a separate one."
   ]
  },
  {
   "cell_type": "code",
   "execution_count": 16,
   "metadata": {},
   "outputs": [],
   "source": [
    "import gzip\n",
    "import pickle\n",
    "import pandas as pd\n",
    "import numpy as np\n",
    "\n",
    "\n",
    "def read_data(filename):\n",
    "    \"\"\"Read data from pickled file to a pandas dataframe\"\"\"\n",
    "    with gzip.open(filename, 'rb') as f:\n",
    "        data = pickle.load(f)\n",
    "\n",
    "    X = to_dataframe(data)\n",
    "    y = pd.get_dummies(X.type)\n",
    "    X = X.drop(columns=['comment', 'type'])\n",
    "\n",
    "    return X, y\n",
    "\n",
    "\n",
    "def to_dataframe(data):\n",
    "    \"\"\"Converts from a python dictionary to a pandas dataframe\"\"\"\n",
    "    for idx in data:\n",
    "        sn = data[idx]\n",
    "        for filt in 'griz':\n",
    "            sn['mjd_%s' % filt] = np.array(sn[filt]['mjd'])\n",
    "            sn['fluxcal_%s' % filt] = np.array(sn[filt]['fluxcal'])\n",
    "            sn['fluxcalerr_%s' % filt] = np.array(sn[filt]['fluxcalerr'])\n",
    "            del sn[filt]\n",
    "        sn.update(sn['header'])\n",
    "        del sn['header']\n",
    "\n",
    "    return pd.DataFrame.from_dict(data, orient='index')"
   ]
  },
  {
   "cell_type": "markdown",
   "metadata": {},
   "source": [
    "### Read the training data"
   ]
  },
  {
   "cell_type": "code",
   "execution_count": 17,
   "metadata": {},
   "outputs": [],
   "source": [
    "X, y = read_data('data/des_train.pkl')"
   ]
  },
  {
   "cell_type": "code",
   "execution_count": 18,
   "metadata": {},
   "outputs": [
    {
     "data": {
      "text/html": [
       "<div>\n",
       "<style scoped>\n",
       "    .dataframe tbody tr th:only-of-type {\n",
       "        vertical-align: middle;\n",
       "    }\n",
       "\n",
       "    .dataframe tbody tr th {\n",
       "        vertical-align: top;\n",
       "    }\n",
       "\n",
       "    .dataframe thead th {\n",
       "        text-align: right;\n",
       "    }\n",
       "</style>\n",
       "<table border=\"1\" class=\"dataframe\">\n",
       "  <thead>\n",
       "    <tr style=\"text-align: right;\">\n",
       "      <th></th>\n",
       "      <th>mjd_g</th>\n",
       "      <th>fluxcal_g</th>\n",
       "      <th>fluxcalerr_g</th>\n",
       "      <th>mjd_r</th>\n",
       "      <th>fluxcal_r</th>\n",
       "      <th>fluxcalerr_r</th>\n",
       "      <th>mjd_i</th>\n",
       "      <th>fluxcal_i</th>\n",
       "      <th>fluxcalerr_i</th>\n",
       "      <th>mjd_z</th>\n",
       "      <th>fluxcal_z</th>\n",
       "      <th>fluxcalerr_z</th>\n",
       "      <th>snid</th>\n",
       "      <th>z</th>\n",
       "      <th>pkmjd</th>\n",
       "      <th>pkmag_g</th>\n",
       "      <th>pkmag_r</th>\n",
       "      <th>pkmag_i</th>\n",
       "      <th>pkmag_z</th>\n",
       "    </tr>\n",
       "  </thead>\n",
       "  <tbody>\n",
       "    <tr>\n",
       "      <th>1186</th>\n",
       "      <td>[56283.203, 56288.199, 56292.098, 56304.051, 5...</td>\n",
       "      <td>[3.182, -13.07, -7.177, -0.4645, 0.2906, 16.63...</td>\n",
       "      <td>[6.285, 11.79, 11.65, 2.479, 7.569, 6.195, 3.6...</td>\n",
       "      <td>[56283.211, 56288.215, 56292.102, 56304.055, 5...</td>\n",
       "      <td>[-4.973, -6.427, 9.861, -1.663, 6.724, 23.82, ...</td>\n",
       "      <td>[3.326, 6.181, 4.83, 1.657, 2.966, 2.553, 3.07...</td>\n",
       "      <td>[56283.215, 56289.109, 56292.191, 56304.07, 56...</td>\n",
       "      <td>[-0.615, -9.294, 0.8371, 0.6895, -1.593, 24.51...</td>\n",
       "      <td>[5.816, 7.082, 5.599, 2.506, 5.021, 3.699, 4.5...</td>\n",
       "      <td>[56283.223, 56289.125, 56292.199, 56304.086, 5...</td>\n",
       "      <td>[11.06, 9.393, 3.887, -0.519, 7.005, 33.13, 94...</td>\n",
       "      <td>[5.047, 5.425, 5.158, 3.934, 5.43, 4.443, 7.02...</td>\n",
       "      <td>1186</td>\n",
       "      <td>0.3698</td>\n",
       "      <td>56335.335938</td>\n",
       "      <td>23.07</td>\n",
       "      <td>22.27</td>\n",
       "      <td>22.21</td>\n",
       "      <td>22.43</td>\n",
       "    </tr>\n",
       "    <tr>\n",
       "      <th>1292</th>\n",
       "      <td>[56177.172, 56179.172, 56187.156, 56189.148, 5...</td>\n",
       "      <td>[27.18, 34.83, 24.15, 34.06, 20.13, 5.124, 2.7...</td>\n",
       "      <td>[4.837, 2.372, 1.805, 9.802, 3.809, 2.291, 1.5...</td>\n",
       "      <td>[56177.188, 56179.312, 56187.172, 56189.16, 56...</td>\n",
       "      <td>[33.02, 34.65, 26.92, 33.84, 18.57, 17.39, 17....</td>\n",
       "      <td>[5.375, 3.109, 1.365, 3.938, 2.385, 1.643, 1.1...</td>\n",
       "      <td>[56177.203, 56179.328, 56187.188, 56189.176, 5...</td>\n",
       "      <td>[49.55, 42.79, 30.72, 34.43, 23.86, 14.07, 12....</td>\n",
       "      <td>[5.519, 4.282, 1.993, 8.104, 8.079, 2.161, 1.4...</td>\n",
       "      <td>[56177.234, 56179.359, 56187.211, 56189.203, 5...</td>\n",
       "      <td>[49.68, 48.62, 42.8, 43.68, 33.21, 27.07, 21.5...</td>\n",
       "      <td>[4.784, 3.636, 2.322, 4.765, 5.671, 2.26, 1.86...</td>\n",
       "      <td>1292</td>\n",
       "      <td>0.3501</td>\n",
       "      <td>56164.195312</td>\n",
       "      <td>23.44</td>\n",
       "      <td>23.36</td>\n",
       "      <td>23.35</td>\n",
       "      <td>23.12</td>\n",
       "    </tr>\n",
       "    <tr>\n",
       "      <th>2542</th>\n",
       "      <td>[56176.191, 56179.188, 56180.266, 56188.16, 56...</td>\n",
       "      <td>[6.955, 21.06, 24.68, 31.91, 27.69, 22.4, 13.2...</td>\n",
       "      <td>[4.773, 2.635, 2.617, 5.746, 2.38, 2.698, 4.80...</td>\n",
       "      <td>[56176.199, 56179.195, 56180.281, 56188.176, 5...</td>\n",
       "      <td>[38.23, 49.79, 54.4, 86.6, 80.42, 73.66, 56.32...</td>\n",
       "      <td>[2.257, 1.963, 1.675, 5.829, 3.629, 2.059, 2.5...</td>\n",
       "      <td>[56176.215, 56179.234, 56180.297, 56188.211, 5...</td>\n",
       "      <td>[36.53, 48.08, 55.75, 70.12, 78.81, 71.36, 68....</td>\n",
       "      <td>[3.225, 2.191, 3.837, 4.723, 9.182, 2.675, 4.3...</td>\n",
       "      <td>[56176.238, 56179.266, 56180.328, 56188.238, 5...</td>\n",
       "      <td>[29.16, 46.65, 45.53, 64.54, 77.19, 75.92, 62....</td>\n",
       "      <td>[2.545, 3.832, 4.569, 3.611, 3.302, 2.779, 2.9...</td>\n",
       "      <td>2542</td>\n",
       "      <td>0.5415</td>\n",
       "      <td>56192.007812</td>\n",
       "      <td>24.17</td>\n",
       "      <td>22.79</td>\n",
       "      <td>22.81</td>\n",
       "      <td>22.85</td>\n",
       "    </tr>\n",
       "    <tr>\n",
       "      <th>2598</th>\n",
       "      <td>[56248.324, 56258.215, 56261.098, 56273.16, 56...</td>\n",
       "      <td>[1.006, -4.694, -2.976, -1.77, 19.69, 61.47, 6...</td>\n",
       "      <td>[1.701, 4.948, 8.828, 1.752, 2.131, 5.026, 6.6...</td>\n",
       "      <td>[56248.34, 56258.227, 56261.102, 56273.176, 56...</td>\n",
       "      <td>[-3.556, -3.604, -5.289, 1.965, 22.99, 84.78, ...</td>\n",
       "      <td>[1.337, 2.382, 3.395, 1.214, 1.358, 2.664, 3.3...</td>\n",
       "      <td>[56258.035, 56261.125, 56273.188, 56281.203, 5...</td>\n",
       "      <td>[22.24, 3.958, -0.1393, 23.06, 90.29, 93.4, 12...</td>\n",
       "      <td>[9.893, 3.854, 2.023, 1.858, 3.509, 5.387, 3.5...</td>\n",
       "      <td>[56258.066, 56261.156, 56273.219, 56281.227, 5...</td>\n",
       "      <td>[4.218, 1.312, 0.01804, 25.39, 87.45, 116.4, 1...</td>\n",
       "      <td>[3.968, 3.086, 2.251, 2.342, 3.062, 3.001, 3.2...</td>\n",
       "      <td>2598</td>\n",
       "      <td>0.3513</td>\n",
       "      <td>56301.996094</td>\n",
       "      <td>22.46</td>\n",
       "      <td>22.02</td>\n",
       "      <td>21.94</td>\n",
       "      <td>22.21</td>\n",
       "    </tr>\n",
       "    <tr>\n",
       "      <th>3644</th>\n",
       "      <td>[56177.172, 56179.172, 56187.156, 56189.148, 5...</td>\n",
       "      <td>[10.03, 3.29, 25.31, 52.93, 137.8, 113.8, 66.4...</td>\n",
       "      <td>[4.792, 2.242, 1.817, 9.857, 4.69, 3.219, 2.12...</td>\n",
       "      <td>[56177.188, 56179.312, 56187.172, 56189.16, 56...</td>\n",
       "      <td>[3.537, 10.17, 45.56, 59.92, 111.3, 139.9, 124...</td>\n",
       "      <td>[5.336, 3.038, 1.537, 4.06, 3.17, 3.089, 2.598...</td>\n",
       "      <td>[56177.203, 56179.328, 56187.188, 56189.176, 5...</td>\n",
       "      <td>[-2.231, 3.372, 28.65, 42.03, 151.9, 155.9, 14...</td>\n",
       "      <td>[5.436, 4.201, 1.98, 8.119, 8.558, 3.634, 3.05...</td>\n",
       "      <td>[56177.234, 56179.359, 56187.211, 56189.203, 5...</td>\n",
       "      <td>[-0.1238, -3.598, 15.7, 14.39, 136.5, 142.2, 1...</td>\n",
       "      <td>[4.691, 3.518, 2.197, 4.702, 6.187, 3.451, 2.9...</td>\n",
       "      <td>3644</td>\n",
       "      <td>0.2705</td>\n",
       "      <td>56204.546875</td>\n",
       "      <td>22.18</td>\n",
       "      <td>22.13</td>\n",
       "      <td>22.00</td>\n",
       "      <td>22.15</td>\n",
       "    </tr>\n",
       "  </tbody>\n",
       "</table>\n",
       "</div>"
      ],
      "text/plain": [
       "                                                  mjd_g  \\\n",
       "1186  [56283.203, 56288.199, 56292.098, 56304.051, 5...   \n",
       "1292  [56177.172, 56179.172, 56187.156, 56189.148, 5...   \n",
       "2542  [56176.191, 56179.188, 56180.266, 56188.16, 56...   \n",
       "2598  [56248.324, 56258.215, 56261.098, 56273.16, 56...   \n",
       "3644  [56177.172, 56179.172, 56187.156, 56189.148, 5...   \n",
       "\n",
       "                                              fluxcal_g  \\\n",
       "1186  [3.182, -13.07, -7.177, -0.4645, 0.2906, 16.63...   \n",
       "1292  [27.18, 34.83, 24.15, 34.06, 20.13, 5.124, 2.7...   \n",
       "2542  [6.955, 21.06, 24.68, 31.91, 27.69, 22.4, 13.2...   \n",
       "2598  [1.006, -4.694, -2.976, -1.77, 19.69, 61.47, 6...   \n",
       "3644  [10.03, 3.29, 25.31, 52.93, 137.8, 113.8, 66.4...   \n",
       "\n",
       "                                           fluxcalerr_g  \\\n",
       "1186  [6.285, 11.79, 11.65, 2.479, 7.569, 6.195, 3.6...   \n",
       "1292  [4.837, 2.372, 1.805, 9.802, 3.809, 2.291, 1.5...   \n",
       "2542  [4.773, 2.635, 2.617, 5.746, 2.38, 2.698, 4.80...   \n",
       "2598  [1.701, 4.948, 8.828, 1.752, 2.131, 5.026, 6.6...   \n",
       "3644  [4.792, 2.242, 1.817, 9.857, 4.69, 3.219, 2.12...   \n",
       "\n",
       "                                                  mjd_r  \\\n",
       "1186  [56283.211, 56288.215, 56292.102, 56304.055, 5...   \n",
       "1292  [56177.188, 56179.312, 56187.172, 56189.16, 56...   \n",
       "2542  [56176.199, 56179.195, 56180.281, 56188.176, 5...   \n",
       "2598  [56248.34, 56258.227, 56261.102, 56273.176, 56...   \n",
       "3644  [56177.188, 56179.312, 56187.172, 56189.16, 56...   \n",
       "\n",
       "                                              fluxcal_r  \\\n",
       "1186  [-4.973, -6.427, 9.861, -1.663, 6.724, 23.82, ...   \n",
       "1292  [33.02, 34.65, 26.92, 33.84, 18.57, 17.39, 17....   \n",
       "2542  [38.23, 49.79, 54.4, 86.6, 80.42, 73.66, 56.32...   \n",
       "2598  [-3.556, -3.604, -5.289, 1.965, 22.99, 84.78, ...   \n",
       "3644  [3.537, 10.17, 45.56, 59.92, 111.3, 139.9, 124...   \n",
       "\n",
       "                                           fluxcalerr_r  \\\n",
       "1186  [3.326, 6.181, 4.83, 1.657, 2.966, 2.553, 3.07...   \n",
       "1292  [5.375, 3.109, 1.365, 3.938, 2.385, 1.643, 1.1...   \n",
       "2542  [2.257, 1.963, 1.675, 5.829, 3.629, 2.059, 2.5...   \n",
       "2598  [1.337, 2.382, 3.395, 1.214, 1.358, 2.664, 3.3...   \n",
       "3644  [5.336, 3.038, 1.537, 4.06, 3.17, 3.089, 2.598...   \n",
       "\n",
       "                                                  mjd_i  \\\n",
       "1186  [56283.215, 56289.109, 56292.191, 56304.07, 56...   \n",
       "1292  [56177.203, 56179.328, 56187.188, 56189.176, 5...   \n",
       "2542  [56176.215, 56179.234, 56180.297, 56188.211, 5...   \n",
       "2598  [56258.035, 56261.125, 56273.188, 56281.203, 5...   \n",
       "3644  [56177.203, 56179.328, 56187.188, 56189.176, 5...   \n",
       "\n",
       "                                              fluxcal_i  \\\n",
       "1186  [-0.615, -9.294, 0.8371, 0.6895, -1.593, 24.51...   \n",
       "1292  [49.55, 42.79, 30.72, 34.43, 23.86, 14.07, 12....   \n",
       "2542  [36.53, 48.08, 55.75, 70.12, 78.81, 71.36, 68....   \n",
       "2598  [22.24, 3.958, -0.1393, 23.06, 90.29, 93.4, 12...   \n",
       "3644  [-2.231, 3.372, 28.65, 42.03, 151.9, 155.9, 14...   \n",
       "\n",
       "                                           fluxcalerr_i  \\\n",
       "1186  [5.816, 7.082, 5.599, 2.506, 5.021, 3.699, 4.5...   \n",
       "1292  [5.519, 4.282, 1.993, 8.104, 8.079, 2.161, 1.4...   \n",
       "2542  [3.225, 2.191, 3.837, 4.723, 9.182, 2.675, 4.3...   \n",
       "2598  [9.893, 3.854, 2.023, 1.858, 3.509, 5.387, 3.5...   \n",
       "3644  [5.436, 4.201, 1.98, 8.119, 8.558, 3.634, 3.05...   \n",
       "\n",
       "                                                  mjd_z  \\\n",
       "1186  [56283.223, 56289.125, 56292.199, 56304.086, 5...   \n",
       "1292  [56177.234, 56179.359, 56187.211, 56189.203, 5...   \n",
       "2542  [56176.238, 56179.266, 56180.328, 56188.238, 5...   \n",
       "2598  [56258.066, 56261.156, 56273.219, 56281.227, 5...   \n",
       "3644  [56177.234, 56179.359, 56187.211, 56189.203, 5...   \n",
       "\n",
       "                                              fluxcal_z  \\\n",
       "1186  [11.06, 9.393, 3.887, -0.519, 7.005, 33.13, 94...   \n",
       "1292  [49.68, 48.62, 42.8, 43.68, 33.21, 27.07, 21.5...   \n",
       "2542  [29.16, 46.65, 45.53, 64.54, 77.19, 75.92, 62....   \n",
       "2598  [4.218, 1.312, 0.01804, 25.39, 87.45, 116.4, 1...   \n",
       "3644  [-0.1238, -3.598, 15.7, 14.39, 136.5, 142.2, 1...   \n",
       "\n",
       "                                           fluxcalerr_z  snid       z  \\\n",
       "1186  [5.047, 5.425, 5.158, 3.934, 5.43, 4.443, 7.02...  1186  0.3698   \n",
       "1292  [4.784, 3.636, 2.322, 4.765, 5.671, 2.26, 1.86...  1292  0.3501   \n",
       "2542  [2.545, 3.832, 4.569, 3.611, 3.302, 2.779, 2.9...  2542  0.5415   \n",
       "2598  [3.968, 3.086, 2.251, 2.342, 3.062, 3.001, 3.2...  2598  0.3513   \n",
       "3644  [4.691, 3.518, 2.197, 4.702, 6.187, 3.451, 2.9...  3644  0.2705   \n",
       "\n",
       "             pkmjd  pkmag_g  pkmag_r  pkmag_i  pkmag_z  \n",
       "1186  56335.335938    23.07    22.27    22.21    22.43  \n",
       "1292  56164.195312    23.44    23.36    23.35    23.12  \n",
       "2542  56192.007812    24.17    22.79    22.81    22.85  \n",
       "2598  56301.996094    22.46    22.02    21.94    22.21  \n",
       "3644  56204.546875    22.18    22.13    22.00    22.15  "
      ]
     },
     "execution_count": 18,
     "metadata": {},
     "output_type": "execute_result"
    }
   ],
   "source": [
    "# 5 first rows of the dataframe\n",
    "X.head()"
   ]
  },
  {
   "cell_type": "markdown",
   "metadata": {},
   "source": [
    "And the labels, converted to a vector form"
   ]
  },
  {
   "cell_type": "code",
   "execution_count": 4,
   "metadata": {
    "scrolled": true
   },
   "outputs": [
    {
     "data": {
      "text/html": [
       "<div>\n",
       "<style scoped>\n",
       "    .dataframe tbody tr th:only-of-type {\n",
       "        vertical-align: middle;\n",
       "    }\n",
       "\n",
       "    .dataframe tbody tr th {\n",
       "        vertical-align: top;\n",
       "    }\n",
       "\n",
       "    .dataframe thead th {\n",
       "        text-align: right;\n",
       "    }\n",
       "</style>\n",
       "<table border=\"1\" class=\"dataframe\">\n",
       "  <thead>\n",
       "    <tr style=\"text-align: right;\">\n",
       "      <th></th>\n",
       "      <th>II</th>\n",
       "      <th>Ia</th>\n",
       "      <th>Ibc</th>\n",
       "    </tr>\n",
       "  </thead>\n",
       "  <tbody>\n",
       "    <tr>\n",
       "      <th>1186</th>\n",
       "      <td>0</td>\n",
       "      <td>1</td>\n",
       "      <td>0</td>\n",
       "    </tr>\n",
       "    <tr>\n",
       "      <th>1292</th>\n",
       "      <td>1</td>\n",
       "      <td>0</td>\n",
       "      <td>0</td>\n",
       "    </tr>\n",
       "    <tr>\n",
       "      <th>2542</th>\n",
       "      <td>0</td>\n",
       "      <td>1</td>\n",
       "      <td>0</td>\n",
       "    </tr>\n",
       "    <tr>\n",
       "      <th>2598</th>\n",
       "      <td>0</td>\n",
       "      <td>1</td>\n",
       "      <td>0</td>\n",
       "    </tr>\n",
       "    <tr>\n",
       "      <th>3644</th>\n",
       "      <td>1</td>\n",
       "      <td>0</td>\n",
       "      <td>0</td>\n",
       "    </tr>\n",
       "  </tbody>\n",
       "</table>\n",
       "</div>"
      ],
      "text/plain": [
       "      II  Ia  Ibc\n",
       "1186   0   1    0\n",
       "1292   1   0    0\n",
       "2542   0   1    0\n",
       "2598   0   1    0\n",
       "3644   1   0    0"
      ]
     },
     "execution_count": 4,
     "metadata": {},
     "output_type": "execute_result"
    }
   ],
   "source": [
    "y.head()"
   ]
  },
  {
   "cell_type": "markdown",
   "metadata": {},
   "source": [
    "In the DataFrame, each supernova is indexed by its ID"
   ]
  },
  {
   "cell_type": "code",
   "execution_count": 5,
   "metadata": {},
   "outputs": [
    {
     "data": {
      "text/plain": [
       "Int64Index([1186, 1292, 2542, 2598, 3644], dtype='int64')"
      ]
     },
     "execution_count": 5,
     "metadata": {},
     "output_type": "execute_result"
    }
   ],
   "source": [
    "X.head().index"
   ]
  },
  {
   "cell_type": "markdown",
   "metadata": {},
   "source": [
    "and can be accessed via the `loc` accessor"
   ]
  },
  {
   "cell_type": "code",
   "execution_count": 6,
   "metadata": {},
   "outputs": [
    {
     "data": {
      "text/plain": [
       "mjd_g           [56283.203, 56288.199, 56292.098, 56304.051, 5...\n",
       "fluxcal_g       [3.182, -13.07, -7.177, -0.4645, 0.2906, 16.63...\n",
       "fluxcalerr_g    [6.285, 11.79, 11.65, 2.479, 7.569, 6.195, 3.6...\n",
       "mjd_r           [56283.211, 56288.215, 56292.102, 56304.055, 5...\n",
       "fluxcal_r       [-4.973, -6.427, 9.861, -1.663, 6.724, 23.82, ...\n",
       "fluxcalerr_r    [3.326, 6.181, 4.83, 1.657, 2.966, 2.553, 3.07...\n",
       "mjd_i           [56283.215, 56289.109, 56292.191, 56304.07, 56...\n",
       "fluxcal_i       [-0.615, -9.294, 0.8371, 0.6895, -1.593, 24.51...\n",
       "fluxcalerr_i    [5.816, 7.082, 5.599, 2.506, 5.021, 3.699, 4.5...\n",
       "mjd_z           [56283.223, 56289.125, 56292.199, 56304.086, 5...\n",
       "fluxcal_z       [11.06, 9.393, 3.887, -0.519, 7.005, 33.13, 94...\n",
       "fluxcalerr_z    [5.047, 5.425, 5.158, 3.934, 5.43, 4.443, 7.02...\n",
       "snid                                                         1186\n",
       "z                                                          0.3698\n",
       "pkmjd                                                     56335.3\n",
       "pkmag_g                                                     23.07\n",
       "pkmag_r                                                     22.27\n",
       "pkmag_i                                                     22.21\n",
       "pkmag_z                                                     22.43\n",
       "Name: 1186, dtype: object"
      ]
     },
     "execution_count": 6,
     "metadata": {},
     "output_type": "execute_result"
    }
   ],
   "source": [
    "# SN 1186\n",
    "X.loc[1186]"
   ]
  },
  {
   "cell_type": "markdown",
   "metadata": {},
   "source": [
    "or via positional indexing with the `iloc` accessor."
   ]
  },
  {
   "cell_type": "code",
   "execution_count": 7,
   "metadata": {},
   "outputs": [],
   "source": [
    "# Also SN 1186\n",
    "sn0 = X.iloc[0]"
   ]
  },
  {
   "cell_type": "markdown",
   "metadata": {},
   "source": [
    "Here is a method to visualize the data"
   ]
  },
  {
   "cell_type": "code",
   "execution_count": 8,
   "metadata": {},
   "outputs": [],
   "source": [
    "import matplotlib.pyplot as plt\n",
    "plt.style.use('seaborn')\n",
    "%matplotlib inline\n",
    "\n",
    "DES_FILTERS = 'griz'\n",
    "\n",
    "def plot_lightcurves(idx):\n",
    "    fig, axes = plt.subplots(2, 2, sharex=True, sharey=True, figsize=(12, 8))\n",
    "    for id_f, f in enumerate(DES_FILTERS):\n",
    "        ax = axes[id_f // 2, id_f % 2]\n",
    "        ax.errorbar(X.iloc[idx]['mjd_%s' % f], \n",
    "                    X.iloc[idx]['fluxcal_%s' % f], \n",
    "                    X.iloc[idx]['fluxcalerr_%s' % f], \n",
    "                    fmt='o')\n",
    "        ax.set_xlabel('MJD')\n",
    "        ax.set_ylabel('Calibrated flux')\n",
    "        ax.set_title('%s-band' % f)"
   ]
  },
  {
   "cell_type": "markdown",
   "metadata": {},
   "source": [
    "Use this method to look at the raw light curves"
   ]
  },
  {
   "cell_type": "code",
   "execution_count": 9,
   "metadata": {},
   "outputs": [
    {
     "data": {
      "image/png": "[encoded data removed]",
      "text/plain": [
       "<Figure size 864x576 with 4 Axes>"
      ]
     },
     "metadata": {},
     "output_type": "display_data"
    }
   ],
   "source": [
    "plot_lightcurves(0)"
   ]
  },
  {
   "cell_type": "markdown",
   "metadata": {},
   "source": [
    "## Starting kit pipeline elements"
   ]
  },
  {
   "cell_type": "markdown",
   "metadata": {},
   "source": [
    "For this classification challenge, participants are required to submit two files:\n",
    "* `feature_extractor.py` \n",
    "* `classifier.py`     \n",
    "\n",
    "In the following, we will go through the process of designing a baseline submission, that is writing the script for both the pre-processing step and the classification step."
   ]
  },
  {
   "cell_type": "markdown",
   "metadata": {},
   "source": [
    "### Pre-processing - a.k.a. feature extraction"
   ]
  },
  {
   "cell_type": "markdown",
   "metadata": {},
   "source": [
    "As the SN data is highly non-homogeneous a little pre-processing need to be done. In the example below we fit the data using a parametric function proposed by [Bazin et al., 2009](https://arxiv.org/pdf/0904.1066.pdf):"
   ]
  },
  {
   "cell_type": "markdown",
   "metadata": {},
   "source": [
    "$$ f(t) = A \\frac{\\exp\\left(-\\frac{t - t_0}{\\tau_{fall}}\\right)}{1 + \\exp\\left(\\frac{t - t_0}{\\tau_{rise}}\\right)}  + B$$"
   ]
  },
  {
   "cell_type": "code",
   "execution_count": 10,
   "metadata": {},
   "outputs": [],
   "source": [
    "def bazin(time, A, B, t0, tfall, trise):\n",
    "    X = np.exp(-(time - t0) / tfall) / (1 + np.exp((time - t0) / trise))\n",
    "    return A * X + B"
   ]
  },
  {
   "cell_type": "markdown",
   "metadata": {},
   "source": [
    "Although this parametric form does not have a physical motivation, it reproduces quiet well the behavior of most light curves.  \n",
    "\n",
    "<div class=\"alert alert-warning\">\n",
    "<b>NOTE</b>  \n",
    "This function is very sensitive to the magnitude of the time of observation. The use of [Modified Julian Date](https://bowie.gsfc.nasa.gov/time/) creates large time values, which are not relevant for such analysis so we use a scaled time instead in order to ensure the convergence of the fit.\n",
    "</div>\n",
    "\n",
    "\n",
    "We provide an example fitting function, so you can fit a light curve and plot reslts as follows:"
   ]
  },
  {
   "cell_type": "code",
   "execution_count": 11,
   "metadata": {},
   "outputs": [],
   "source": [
    "from scipy.optimize import least_squares\n",
    "\n",
    "def lightcurve_fit(time, flux):\n",
    "    scaled_time = time - time.min()\n",
    "    t0 = scaled_time[flux.argmax()]\n",
    "    guess = (0, 0, t0, 40, -5)\n",
    "\n",
    "    errfunc = lambda params: abs(flux - bazin(scaled_time, *params))\n",
    "\n",
    "    result = least_squares(errfunc, guess, method='lm')\n",
    "\n",
    "    return result.x"
   ]
  },
  {
   "cell_type": "markdown",
   "metadata": {},
   "source": [
    "The parametric fit on the light curves yields 5 parameters for each filter $A, B, t_0, \\tau_{fall}, \\tau_{rise}$."
   ]
  },
  {
   "cell_type": "code",
   "execution_count": 12,
   "metadata": {},
   "outputs": [
    {
     "data": {
      "text/plain": [
       "array([132.37309421,  -5.3858553 ,  47.36812147,  10.92992312,\n",
       "        -3.95247408])"
      ]
     },
     "execution_count": 12,
     "metadata": {},
     "output_type": "execute_result"
    }
   ],
   "source": [
    "lightcurve_fit(sn0.mjd_g, sn0.fluxcal_g)"
   ]
  },
  {
   "cell_type": "code",
   "execution_count": 13,
   "metadata": {},
   "outputs": [],
   "source": [
    "def plot_lightcurves_with_fit(idx):\n",
    "    fig, axes = plt.subplots(2, 2, sharex=True, sharey=True, figsize=(12, 8))\n",
    "    for id_f, f in enumerate(DES_FILTERS):\n",
    "        ax = axes[id_f // 2, id_f % 2]\n",
    "        \n",
    "        time = X.iloc[idx]['mjd_%s' % f]\n",
    "        flux = X.iloc[idx]['fluxcal_%s' % f]\n",
    "        \n",
    "        fit = lightcurve_fit(time, flux)\n",
    "        stime = np.arange(time.min(), time.max())\n",
    "        \n",
    "        ax.plot(time, flux, 'o')\n",
    "        ax.plot(stime, bazin(stime - stime.min(), *fit))\n",
    "        ax.set_xlabel('MJD')\n",
    "        ax.set_ylabel('Calibrated flux')\n",
    "        ax.set_title('%s-band' % f)"
   ]
  },
  {
   "cell_type": "code",
   "execution_count": 14,
   "metadata": {},
   "outputs": [
    {
     "data": {
      "image/png": "[encoded data removed]",
      "text/plain": [
       "<Figure size 864x576 with 4 Axes>"
      ]
     },
     "metadata": {},
     "output_type": "display_data"
    }
   ],
   "source": [
    "plot_lightcurves_with_fit(2)"
   ]
  },
  {
   "cell_type": "markdown",
   "metadata": {},
   "source": [
    "### Analogously you can read the test data"
   ]
  },
  {
   "cell_type": "code",
   "execution_count": 21,
   "metadata": {},
   "outputs": [],
   "source": [
    "X1, y1 = read_data('data/des_target.pkl')"
   ]
  },
  {
   "cell_type": "code",
   "execution_count": 24,
   "metadata": {},
   "outputs": [
    {
     "data": {
      "text/html": [
       "<div>\n",
       "<style scoped>\n",
       "    .dataframe tbody tr th:only-of-type {\n",
       "        vertical-align: middle;\n",
       "    }\n",
       "\n",
       "    .dataframe tbody tr th {\n",
       "        vertical-align: top;\n",
       "    }\n",
       "\n",
       "    .dataframe thead th {\n",
       "        text-align: right;\n",
       "    }\n",
       "</style>\n",
       "<table border=\"1\" class=\"dataframe\">\n",
       "  <thead>\n",
       "    <tr style=\"text-align: right;\">\n",
       "      <th></th>\n",
       "      <th>mjd_g</th>\n",
       "      <th>fluxcal_g</th>\n",
       "      <th>fluxcalerr_g</th>\n",
       "      <th>mjd_r</th>\n",
       "      <th>fluxcal_r</th>\n",
       "      <th>fluxcalerr_r</th>\n",
       "      <th>mjd_i</th>\n",
       "      <th>fluxcal_i</th>\n",
       "      <th>fluxcalerr_i</th>\n",
       "      <th>mjd_z</th>\n",
       "      <th>fluxcal_z</th>\n",
       "      <th>fluxcalerr_z</th>\n",
       "      <th>snid</th>\n",
       "      <th>z</th>\n",
       "      <th>pkmjd</th>\n",
       "      <th>pkmag_g</th>\n",
       "      <th>pkmag_r</th>\n",
       "      <th>pkmag_i</th>\n",
       "      <th>pkmag_z</th>\n",
       "    </tr>\n",
       "  </thead>\n",
       "  <tbody>\n",
       "    <tr>\n",
       "      <th>17</th>\n",
       "      <td>[56171.051, 56179.023, 56180.031, 56188.004, 5...</td>\n",
       "      <td>[-36.79, 6.122, 2.865, 5.279, 5.93, -13.35, -2...</td>\n",
       "      <td>[78.09, 6.377, 5.671, 5.677, 5.647, 6.204, 18....</td>\n",
       "      <td>[56172.039, 56179.031, 56180.047, 56188.016, 5...</td>\n",
       "      <td>[4.41, -3.697, 1.002, 0.5595, 4.916, 3.12, -4....</td>\n",
       "      <td>[17.58, 4.331, 4.492, 4.368, 4.331, 3.584, 9.0...</td>\n",
       "      <td>[56172.051, 56179.047, 56180.062, 56188.027, 5...</td>\n",
       "      <td>[0.6447, 14.39, 10.95, 3.962, 11.08, 4.648, -0...</td>\n",
       "      <td>[49.95, 7.145, 6.74, 6.462, 6.409, 6.148, 11.8...</td>\n",
       "      <td>[56176.16, 56179.062, 56180.078, 56188.035, 56...</td>\n",
       "      <td>[1.337, 5.544, -1.652, -4.632, 8.298, -8.15, -...</td>\n",
       "      <td>[3.581, 8.139, 10.16, 6.472, 6.408, 15.08, 7.6...</td>\n",
       "      <td>17</td>\n",
       "      <td>0.3972</td>\n",
       "      <td>56214.511719</td>\n",
       "      <td>26.78</td>\n",
       "      <td>28.54</td>\n",
       "      <td>28.42</td>\n",
       "      <td>26.27</td>\n",
       "    </tr>\n",
       "    <tr>\n",
       "      <th>19</th>\n",
       "      <td>[56221.004, 56222.016, 56229.012, 56231.012, 5...</td>\n",
       "      <td>[1.325, 10.68, -12.38, -0.7444, -16.28, -1.846...</td>\n",
       "      <td>[5.225, 6.245, 9.82, 6.914, 5.18, 3.612, 4.182...</td>\n",
       "      <td>[56221.016, 56222.027, 56229.016, 56231.02, 56...</td>\n",
       "      <td>[2.468, -9.936, -5.602, -3.687, -1.04, -0.4602...</td>\n",
       "      <td>[3.577, 3.623, 4.318, 2.784, 5.378, 2.785, 2.8...</td>\n",
       "      <td>[56221.027, 56222.035, 56229.023, 56231.027, 5...</td>\n",
       "      <td>[-9.62, -0.9565, -2.845, 1.944, -7.399, -3.144...</td>\n",
       "      <td>[5.473, 4.921, 7.807, 4.071, 7.62, 4.81, 4.408...</td>\n",
       "      <td>[56221.035, 56228.012, 56230.012, 56235.02, 56...</td>\n",
       "      <td>[-7.9, -1.675, 6.876, 0.7848, 9.817, 0.539, 10...</td>\n",
       "      <td>[5.405, 5.545, 4.915, 5.689, 5.126, 5.345, 3.5...</td>\n",
       "      <td>19</td>\n",
       "      <td>0.9674</td>\n",
       "      <td>56297.375000</td>\n",
       "      <td>25.76</td>\n",
       "      <td>23.88</td>\n",
       "      <td>24.26</td>\n",
       "      <td>24.11</td>\n",
       "    </tr>\n",
       "    <tr>\n",
       "      <th>126</th>\n",
       "      <td>[56194.258, 56202.16, 56210.172, 56218.172, 56...</td>\n",
       "      <td>[0.5652, -1.158, -0.9069, 0.5285, 1.824, -3.85...</td>\n",
       "      <td>[2.636, 4.79, 3.69, 1.249, 3.91, 5.909, 7.693,...</td>\n",
       "      <td>[56194.27, 56202.176, 56210.188, 56218.191, 56...</td>\n",
       "      <td>[-1.709, -5.724, 1.963, -0.6326, 3.538, -1.682...</td>\n",
       "      <td>[1.486, 2.324, 3.215, 0.956, 5.581, 2.626, 2.3...</td>\n",
       "      <td>[56194.285, 56202.191, 56210.203, 56218.211, 5...</td>\n",
       "      <td>[-4.059, 1.535, -0.9864, -1.017, -3.082, -0.24...</td>\n",
       "      <td>[2.292, 4.162, 3.208, 1.499, 4.482, 3.322, 5.1...</td>\n",
       "      <td>[56194.305, 56202.215, 56210.234, 56219.156, 5...</td>\n",
       "      <td>[-2.55, 0.1151, 0.4349, 2.099, 18.6, -2.833, -...</td>\n",
       "      <td>[2.384, 2.711, 3.845, 1.933, 14.4, 5.055, 4.13...</td>\n",
       "      <td>126</td>\n",
       "      <td>0.5621</td>\n",
       "      <td>56255.121094</td>\n",
       "      <td>25.15</td>\n",
       "      <td>24.61</td>\n",
       "      <td>24.99</td>\n",
       "      <td>25.02</td>\n",
       "    </tr>\n",
       "    <tr>\n",
       "      <th>172</th>\n",
       "      <td>[56177.172, 56179.172, 56187.156, 56189.148, 5...</td>\n",
       "      <td>[8.814, 9.327, 25.14, 4.583, 14.75, 4.514, 3.9...</td>\n",
       "      <td>[4.79, 2.25, 1.815, 9.785, 3.799, 2.29, 1.606,...</td>\n",
       "      <td>[56177.188, 56179.312, 56187.172, 56189.16, 56...</td>\n",
       "      <td>[-6.07, -1.459, 1.734, 12.94, 24.37, 15.21, 16...</td>\n",
       "      <td>[5.335, 3.03, 1.254, 3.887, 2.402, 1.635, 1.14...</td>\n",
       "      <td>[56177.203, 56179.328, 56187.188, 56189.176, 5...</td>\n",
       "      <td>[3.05, 0.8958, 7.507, 3.853, 19.84, 19.4, 16.5...</td>\n",
       "      <td>[5.436, 4.199, 1.904, 8.072, 8.075, 2.175, 1.4...</td>\n",
       "      <td>[56177.234, 56179.359, 56187.211, 56189.203, 5...</td>\n",
       "      <td>[-0.6383, -0.6604, 12.9, 20.37, 23.72, 24.25, ...</td>\n",
       "      <td>[4.691, 3.517, 2.19, 4.708, 5.654, 2.249, 1.87...</td>\n",
       "      <td>172</td>\n",
       "      <td>0.4458</td>\n",
       "      <td>56203.925781</td>\n",
       "      <td>25.26</td>\n",
       "      <td>24.38</td>\n",
       "      <td>24.43</td>\n",
       "      <td>24.11</td>\n",
       "    </tr>\n",
       "    <tr>\n",
       "      <th>303</th>\n",
       "      <td>[56188.148, 56194.145, 56207.188, 56215.195, 5...</td>\n",
       "      <td>[-25.75, -2.684, -3.577, 2.366, -6.99, -0.0593...</td>\n",
       "      <td>[17.96, 4.678, 4.366, 2.681, 6.269, 7.729, 12....</td>\n",
       "      <td>[56188.289, 56194.156, 56207.195, 56215.203, 5...</td>\n",
       "      <td>[0.5207, -3.778, 1.138, 2.289, -4.397, 9.484, ...</td>\n",
       "      <td>[3.995, 2.752, 3.459, 2.172, 5.079, 5.697, 5.5...</td>\n",
       "      <td>[56188.297, 56194.172, 56207.203, 56215.211, 5...</td>\n",
       "      <td>[-9.986, 0.4815, -14.14, 0.4821, -8.719, -0.27...</td>\n",
       "      <td>[8.134, 4.627, 6.252, 2.633, 5.578, 16.98, 12....</td>\n",
       "      <td>[56188.312, 56194.188, 56207.219, 56215.227, 5...</td>\n",
       "      <td>[-3.335, -5.354, -8.832, 3.344, -8.594, -4.714...</td>\n",
       "      <td>[5.393, 4.463, 5.954, 3.426, 7.707, 8.065, 6.6...</td>\n",
       "      <td>303</td>\n",
       "      <td>0.9024</td>\n",
       "      <td>56263.945312</td>\n",
       "      <td>98.99</td>\n",
       "      <td>25.88</td>\n",
       "      <td>24.39</td>\n",
       "      <td>24.25</td>\n",
       "    </tr>\n",
       "  </tbody>\n",
       "</table>\n",
       "</div>"
      ],
      "text/plain": [
       "                                                 mjd_g  \\\n",
       "17   [56171.051, 56179.023, 56180.031, 56188.004, 5...   \n",
       "19   [56221.004, 56222.016, 56229.012, 56231.012, 5...   \n",
       "126  [56194.258, 56202.16, 56210.172, 56218.172, 56...   \n",
       "172  [56177.172, 56179.172, 56187.156, 56189.148, 5...   \n",
       "303  [56188.148, 56194.145, 56207.188, 56215.195, 5...   \n",
       "\n",
       "                                             fluxcal_g  \\\n",
       "17   [-36.79, 6.122, 2.865, 5.279, 5.93, -13.35, -2...   \n",
       "19   [1.325, 10.68, -12.38, -0.7444, -16.28, -1.846...   \n",
       "126  [0.5652, -1.158, -0.9069, 0.5285, 1.824, -3.85...   \n",
       "172  [8.814, 9.327, 25.14, 4.583, 14.75, 4.514, 3.9...   \n",
       "303  [-25.75, -2.684, -3.577, 2.366, -6.99, -0.0593...   \n",
       "\n",
       "                                          fluxcalerr_g  \\\n",
       "17   [78.09, 6.377, 5.671, 5.677, 5.647, 6.204, 18....   \n",
       "19   [5.225, 6.245, 9.82, 6.914, 5.18, 3.612, 4.182...   \n",
       "126  [2.636, 4.79, 3.69, 1.249, 3.91, 5.909, 7.693,...   \n",
       "172  [4.79, 2.25, 1.815, 9.785, 3.799, 2.29, 1.606,...   \n",
       "303  [17.96, 4.678, 4.366, 2.681, 6.269, 7.729, 12....   \n",
       "\n",
       "                                                 mjd_r  \\\n",
       "17   [56172.039, 56179.031, 56180.047, 56188.016, 5...   \n",
       "19   [56221.016, 56222.027, 56229.016, 56231.02, 56...   \n",
       "126  [56194.27, 56202.176, 56210.188, 56218.191, 56...   \n",
       "172  [56177.188, 56179.312, 56187.172, 56189.16, 56...   \n",
       "303  [56188.289, 56194.156, 56207.195, 56215.203, 5...   \n",
       "\n",
       "                                             fluxcal_r  \\\n",
       "17   [4.41, -3.697, 1.002, 0.5595, 4.916, 3.12, -4....   \n",
       "19   [2.468, -9.936, -5.602, -3.687, -1.04, -0.4602...   \n",
       "126  [-1.709, -5.724, 1.963, -0.6326, 3.538, -1.682...   \n",
       "172  [-6.07, -1.459, 1.734, 12.94, 24.37, 15.21, 16...   \n",
       "303  [0.5207, -3.778, 1.138, 2.289, -4.397, 9.484, ...   \n",
       "\n",
       "                                          fluxcalerr_r  \\\n",
       "17   [17.58, 4.331, 4.492, 4.368, 4.331, 3.584, 9.0...   \n",
       "19   [3.577, 3.623, 4.318, 2.784, 5.378, 2.785, 2.8...   \n",
       "126  [1.486, 2.324, 3.215, 0.956, 5.581, 2.626, 2.3...   \n",
       "172  [5.335, 3.03, 1.254, 3.887, 2.402, 1.635, 1.14...   \n",
       "303  [3.995, 2.752, 3.459, 2.172, 5.079, 5.697, 5.5...   \n",
       "\n",
       "                                                 mjd_i  \\\n",
       "17   [56172.051, 56179.047, 56180.062, 56188.027, 5...   \n",
       "19   [56221.027, 56222.035, 56229.023, 56231.027, 5...   \n",
       "126  [56194.285, 56202.191, 56210.203, 56218.211, 5...   \n",
       "172  [56177.203, 56179.328, 56187.188, 56189.176, 5...   \n",
       "303  [56188.297, 56194.172, 56207.203, 56215.211, 5...   \n",
       "\n",
       "                                             fluxcal_i  \\\n",
       "17   [0.6447, 14.39, 10.95, 3.962, 11.08, 4.648, -0...   \n",
       "19   [-9.62, -0.9565, -2.845, 1.944, -7.399, -3.144...   \n",
       "126  [-4.059, 1.535, -0.9864, -1.017, -3.082, -0.24...   \n",
       "172  [3.05, 0.8958, 7.507, 3.853, 19.84, 19.4, 16.5...   \n",
       "303  [-9.986, 0.4815, -14.14, 0.4821, -8.719, -0.27...   \n",
       "\n",
       "                                          fluxcalerr_i  \\\n",
       "17   [49.95, 7.145, 6.74, 6.462, 6.409, 6.148, 11.8...   \n",
       "19   [5.473, 4.921, 7.807, 4.071, 7.62, 4.81, 4.408...   \n",
       "126  [2.292, 4.162, 3.208, 1.499, 4.482, 3.322, 5.1...   \n",
       "172  [5.436, 4.199, 1.904, 8.072, 8.075, 2.175, 1.4...   \n",
       "303  [8.134, 4.627, 6.252, 2.633, 5.578, 16.98, 12....   \n",
       "\n",
       "                                                 mjd_z  \\\n",
       "17   [56176.16, 56179.062, 56180.078, 56188.035, 56...   \n",
       "19   [56221.035, 56228.012, 56230.012, 56235.02, 56...   \n",
       "126  [56194.305, 56202.215, 56210.234, 56219.156, 5...   \n",
       "172  [56177.234, 56179.359, 56187.211, 56189.203, 5...   \n",
       "303  [56188.312, 56194.188, 56207.219, 56215.227, 5...   \n",
       "\n",
       "                                             fluxcal_z  \\\n",
       "17   [1.337, 5.544, -1.652, -4.632, 8.298, -8.15, -...   \n",
       "19   [-7.9, -1.675, 6.876, 0.7848, 9.817, 0.539, 10...   \n",
       "126  [-2.55, 0.1151, 0.4349, 2.099, 18.6, -2.833, -...   \n",
       "172  [-0.6383, -0.6604, 12.9, 20.37, 23.72, 24.25, ...   \n",
       "303  [-3.335, -5.354, -8.832, 3.344, -8.594, -4.714...   \n",
       "\n",
       "                                          fluxcalerr_z  snid       z  \\\n",
       "17   [3.581, 8.139, 10.16, 6.472, 6.408, 15.08, 7.6...    17  0.3972   \n",
       "19   [5.405, 5.545, 4.915, 5.689, 5.126, 5.345, 3.5...    19  0.9674   \n",
       "126  [2.384, 2.711, 3.845, 1.933, 14.4, 5.055, 4.13...   126  0.5621   \n",
       "172  [4.691, 3.517, 2.19, 4.708, 5.654, 2.249, 1.87...   172  0.4458   \n",
       "303  [5.393, 4.463, 5.954, 3.426, 7.707, 8.065, 6.6...   303  0.9024   \n",
       "\n",
       "            pkmjd  pkmag_g  pkmag_r  pkmag_i  pkmag_z  \n",
       "17   56214.511719    26.78    28.54    28.42    26.27  \n",
       "19   56297.375000    25.76    23.88    24.26    24.11  \n",
       "126  56255.121094    25.15    24.61    24.99    25.02  \n",
       "172  56203.925781    25.26    24.38    24.43    24.11  \n",
       "303  56263.945312    98.99    25.88    24.39    24.25  "
      ]
     },
     "execution_count": 24,
     "metadata": {},
     "output_type": "execute_result"
    }
   ],
   "source": [
    "X1.head()"
   ]
  },
  {
   "cell_type": "code",
   "execution_count": 23,
   "metadata": {},
   "outputs": [
    {
     "data": {
      "text/html": [
       "<div>\n",
       "<style scoped>\n",
       "    .dataframe tbody tr th:only-of-type {\n",
       "        vertical-align: middle;\n",
       "    }\n",
       "\n",
       "    .dataframe tbody tr th {\n",
       "        vertical-align: top;\n",
       "    }\n",
       "\n",
       "    .dataframe thead th {\n",
       "        text-align: right;\n",
       "    }\n",
       "</style>\n",
       "<table border=\"1\" class=\"dataframe\">\n",
       "  <thead>\n",
       "    <tr style=\"text-align: right;\">\n",
       "      <th></th>\n",
       "      <th>II</th>\n",
       "      <th>Ia</th>\n",
       "      <th>Ibc</th>\n",
       "    </tr>\n",
       "  </thead>\n",
       "  <tbody>\n",
       "    <tr>\n",
       "      <th>17</th>\n",
       "      <td>1</td>\n",
       "      <td>0</td>\n",
       "      <td>0</td>\n",
       "    </tr>\n",
       "    <tr>\n",
       "      <th>19</th>\n",
       "      <td>1</td>\n",
       "      <td>0</td>\n",
       "      <td>0</td>\n",
       "    </tr>\n",
       "    <tr>\n",
       "      <th>126</th>\n",
       "      <td>1</td>\n",
       "      <td>0</td>\n",
       "      <td>0</td>\n",
       "    </tr>\n",
       "    <tr>\n",
       "      <th>172</th>\n",
       "      <td>1</td>\n",
       "      <td>0</td>\n",
       "      <td>0</td>\n",
       "    </tr>\n",
       "    <tr>\n",
       "      <th>303</th>\n",
       "      <td>0</td>\n",
       "      <td>0</td>\n",
       "      <td>1</td>\n",
       "    </tr>\n",
       "  </tbody>\n",
       "</table>\n",
       "</div>"
      ],
      "text/plain": [
       "     II  Ia  Ibc\n",
       "17    1   0    0\n",
       "19    1   0    0\n",
       "126   1   0    0\n",
       "172   1   0    0\n",
       "303   0   0    1"
      ]
     },
     "execution_count": 23,
     "metadata": {},
     "output_type": "execute_result"
    }
   ],
   "source": [
    "y1.head()"
   ]
  },
  {
   "cell_type": "code",
   "execution_count": null,
   "metadata": {},
   "outputs": [],
   "source": []
  }
 ],
 "metadata": {
  "kernelspec": {
   "display_name": "Python 3",
   "language": "python",
   "name": "python3"
  },
  "language_info": {
   "codemirror_mode": {
    "name": "ipython",
    "version": 3
   },
   "file_extension": ".py",
   "mimetype": "text/x-python",
   "name": "python",
   "nbconvert_exporter": "python",
   "pygments_lexer": "ipython3",
   "version": "3.6.5"
  },
  "widgets": {
   "state": {},
   "version": "1.1.1"
  }
 },
 "nbformat": 4,
 "nbformat_minor": 2
}
